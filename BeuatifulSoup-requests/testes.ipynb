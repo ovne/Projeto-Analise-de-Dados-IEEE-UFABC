{
    "cells": [
        {
            "cell_type": "code",
            "execution_count": 1,
            "source": [
                "import pandas as pd"
            ],
            "outputs": [],
            "metadata": {}
        },
        {
            "cell_type": "code",
            "execution_count": 15,
            "source": [
                "df = pd.read_csv('database-ofertas-ML.csv')"
            ],
            "outputs": [],
            "metadata": {}
        },
        {
            "cell_type": "code",
            "execution_count": 17,
            "source": [
                "df.head(10)"
            ],
            "outputs": [
                {
                    "output_type": "execute_result",
                    "data": {
                        "text/plain": [
                            "   Unnamed: 0                                       nome-produto preco-antigo  \\\n",
                            "0           0  Smart Tv LG Ai Thinq 32lm621cbsb Led Hd 32  10...     R$ 1.599   \n",
                            "1           1  Samsung Galaxy M21s Dual Sim 64 Gb Preto 4 Gb Ram     R$ 1.381   \n",
                            "2           2  Smartphone Motorola Moto E7 Tl 6.5 32gb 2gb Ra...       R$ 899   \n",
                            "3           3              LG K71 Dual Sim 128 Gb White 4 Gb Ram     R$ 1.670   \n",
                            "4           4  Tablet  Samsung Galaxy Tab A 2019 Sm-t295 8  3...     R$ 1.149   \n",
                            "5           5               Cerveja Colorado Appia Garrafa 600ml        R$ 12   \n",
                            "6           6  Aquecedor Portátil Elétrico Comfort Air 800w A...       R$ 219   \n",
                            "7           7  52 Peças Popit Bubble Fidget Sensorial Brinque...       R$ 196   \n",
                            "8           8  Mop Giratório Fit Balde 8 Litros Mop5010 Flash...        R$ 84   \n",
                            "9           9  Lousa Quadro Branco Mold Aluminio 80x60 Apagad...        R$ 78   \n",
                            "\n",
                            "  preco-atual                                       link-produto  \n",
                            "0  R$ 1.449,   https://produto.mercadolivre.com.br/MLB-169738...  \n",
                            "1  R$ 1.324,   https://produto.mercadolivre.com.br/MLB-177206...  \n",
                            "2    R$ 859,   https://produto.mercadolivre.com.br/MLB-177466...  \n",
                            "3  R$ 1.399,   https://produto.mercadolivre.com.br/MLB-192405...  \n",
                            "4    R$ 999,   https://produto.mercadolivre.com.br/MLB-173834...  \n",
                            "5    R$ 6, 49  https://produto.mercadolivre.com.br/MLB-188136...  \n",
                            "6  R$ 197, 91  https://produto.mercadolivre.com.br/MLB-157197...  \n",
                            "7  R$ 126, 99  https://produto.mercadolivre.com.br/MLB-187099...  \n",
                            "8   R$ 62, 50  https://produto.mercadolivre.com.br/MLB-182159...  \n",
                            "9   R$ 63, 16  https://produto.mercadolivre.com.br/MLB-149952...  "
                        ],
                        "text/html": [
                            "<div>\n",
                            "<style scoped>\n",
                            "    .dataframe tbody tr th:only-of-type {\n",
                            "        vertical-align: middle;\n",
                            "    }\n",
                            "\n",
                            "    .dataframe tbody tr th {\n",
                            "        vertical-align: top;\n",
                            "    }\n",
                            "\n",
                            "    .dataframe thead th {\n",
                            "        text-align: right;\n",
                            "    }\n",
                            "</style>\n",
                            "<table border=\"1\" class=\"dataframe\">\n",
                            "  <thead>\n",
                            "    <tr style=\"text-align: right;\">\n",
                            "      <th></th>\n",
                            "      <th>Unnamed: 0</th>\n",
                            "      <th>nome-produto</th>\n",
                            "      <th>preco-antigo</th>\n",
                            "      <th>preco-atual</th>\n",
                            "      <th>link-produto</th>\n",
                            "    </tr>\n",
                            "  </thead>\n",
                            "  <tbody>\n",
                            "    <tr>\n",
                            "      <th>0</th>\n",
                            "      <td>0</td>\n",
                            "      <td>Smart Tv LG Ai Thinq 32lm621cbsb Led Hd 32  10...</td>\n",
                            "      <td>R$ 1.599</td>\n",
                            "      <td>R$ 1.449,</td>\n",
                            "      <td>https://produto.mercadolivre.com.br/MLB-169738...</td>\n",
                            "    </tr>\n",
                            "    <tr>\n",
                            "      <th>1</th>\n",
                            "      <td>1</td>\n",
                            "      <td>Samsung Galaxy M21s Dual Sim 64 Gb Preto 4 Gb Ram</td>\n",
                            "      <td>R$ 1.381</td>\n",
                            "      <td>R$ 1.324,</td>\n",
                            "      <td>https://produto.mercadolivre.com.br/MLB-177206...</td>\n",
                            "    </tr>\n",
                            "    <tr>\n",
                            "      <th>2</th>\n",
                            "      <td>2</td>\n",
                            "      <td>Smartphone Motorola Moto E7 Tl 6.5 32gb 2gb Ra...</td>\n",
                            "      <td>R$ 899</td>\n",
                            "      <td>R$ 859,</td>\n",
                            "      <td>https://produto.mercadolivre.com.br/MLB-177466...</td>\n",
                            "    </tr>\n",
                            "    <tr>\n",
                            "      <th>3</th>\n",
                            "      <td>3</td>\n",
                            "      <td>LG K71 Dual Sim 128 Gb White 4 Gb Ram</td>\n",
                            "      <td>R$ 1.670</td>\n",
                            "      <td>R$ 1.399,</td>\n",
                            "      <td>https://produto.mercadolivre.com.br/MLB-192405...</td>\n",
                            "    </tr>\n",
                            "    <tr>\n",
                            "      <th>4</th>\n",
                            "      <td>4</td>\n",
                            "      <td>Tablet  Samsung Galaxy Tab A 2019 Sm-t295 8  3...</td>\n",
                            "      <td>R$ 1.149</td>\n",
                            "      <td>R$ 999,</td>\n",
                            "      <td>https://produto.mercadolivre.com.br/MLB-173834...</td>\n",
                            "    </tr>\n",
                            "    <tr>\n",
                            "      <th>5</th>\n",
                            "      <td>5</td>\n",
                            "      <td>Cerveja Colorado Appia Garrafa 600ml</td>\n",
                            "      <td>R$ 12</td>\n",
                            "      <td>R$ 6, 49</td>\n",
                            "      <td>https://produto.mercadolivre.com.br/MLB-188136...</td>\n",
                            "    </tr>\n",
                            "    <tr>\n",
                            "      <th>6</th>\n",
                            "      <td>6</td>\n",
                            "      <td>Aquecedor Portátil Elétrico Comfort Air 800w A...</td>\n",
                            "      <td>R$ 219</td>\n",
                            "      <td>R$ 197, 91</td>\n",
                            "      <td>https://produto.mercadolivre.com.br/MLB-157197...</td>\n",
                            "    </tr>\n",
                            "    <tr>\n",
                            "      <th>7</th>\n",
                            "      <td>7</td>\n",
                            "      <td>52 Peças Popit Bubble Fidget Sensorial Brinque...</td>\n",
                            "      <td>R$ 196</td>\n",
                            "      <td>R$ 126, 99</td>\n",
                            "      <td>https://produto.mercadolivre.com.br/MLB-187099...</td>\n",
                            "    </tr>\n",
                            "    <tr>\n",
                            "      <th>8</th>\n",
                            "      <td>8</td>\n",
                            "      <td>Mop Giratório Fit Balde 8 Litros Mop5010 Flash...</td>\n",
                            "      <td>R$ 84</td>\n",
                            "      <td>R$ 62, 50</td>\n",
                            "      <td>https://produto.mercadolivre.com.br/MLB-182159...</td>\n",
                            "    </tr>\n",
                            "    <tr>\n",
                            "      <th>9</th>\n",
                            "      <td>9</td>\n",
                            "      <td>Lousa Quadro Branco Mold Aluminio 80x60 Apagad...</td>\n",
                            "      <td>R$ 78</td>\n",
                            "      <td>R$ 63, 16</td>\n",
                            "      <td>https://produto.mercadolivre.com.br/MLB-149952...</td>\n",
                            "    </tr>\n",
                            "  </tbody>\n",
                            "</table>\n",
                            "</div>"
                        ]
                    },
                    "metadata": {},
                    "execution_count": 17
                }
            ],
            "metadata": {}
        },
        {
            "cell_type": "code",
            "execution_count": 8,
            "source": [
                "df['link-produto'][9999]"
            ],
            "outputs": [
                {
                    "output_type": "execute_result",
                    "data": {
                        "text/plain": [
                            "'https://produto.mercadolivre.com.br/MLB-1927940807-50-varetas-haste-pega-balo-metalizado-bubble-festa-atacado-_JM?hide_psmb=true#reco_item_pos=15&reco_backend=promotions-sorted-by-score-mlb-A&reco_backend_type=low_level&reco_client=seller-promotions&reco_id=c9f98a38-d3bc-462a-a01a-9da61049ee78&deal_print_id=5128f159-a4f2-468d-b556-2e5126a1b92b&model_version=recommendations/prueba-promotions-MLB__3551__KAKUY&promotion_type=TODAY_PROMOTION'"
                        ]
                    },
                    "metadata": {},
                    "execution_count": 8
                }
            ],
            "metadata": {}
        }
    ],
    "metadata": {
        "orig_nbformat": 4,
        "language_info": {
            "name": "python",
            "version": "3.8.10",
            "mimetype": "text/x-python",
            "codemirror_mode": {
                "name": "ipython",
                "version": 3
            },
            "pygments_lexer": "ipython3",
            "nbconvert_exporter": "python",
            "file_extension": ".py"
        },
        "kernelspec": {
            "name": "python3",
            "display_name": "Python 3.8.10 64-bit"
        },
        "interpreter": {
            "hash": "31f2aee4e71d21fbe5cf8b01ff0e069b9275f58929596ceb00d14d90e3e16cd6"
        }
    },
    "nbformat": 4,
    "nbformat_minor": 2
}